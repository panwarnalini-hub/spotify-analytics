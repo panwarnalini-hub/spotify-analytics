{
 "cells": [
  {
   "cell_type": "code",
   "execution_count": 0,
   "metadata": {
    "application/vnd.databricks.v1+cell": {
     "cellMetadata": {
      "byteLimit": 2048000,
      "rowLimit": 10000
     },
     "inputWidgets": {},
     "nuid": "aad81cf6-4366-444d-ba63-1f4c8d67370c",
     "showTitle": false,
     "tableResultSettingsMap": {
      "0": {
       "dataGridStateBlob": "{\"version\":1,\"tableState\":{\"columnPinning\":{\"left\":[\"#row_number#\"],\"right\":[]},\"columnSizing\":{\"played_at\":233},\"columnVisibility\":{}},\"settings\":{\"columns\":{}},\"syncTimestamp\":1759486596764}",
       "filterBlob": null,
       "queryPlanFiltersBlob": null,
       "tableResultIndex": 0
      }
     },
     "title": ""
    }
   },
   "outputs": [
    {
     "output_type": "display_data",
     "data": {
      "text/html": [
       "<style scoped>\n",
       "  .table-result-container {\n",
       "    max-height: 300px;\n",
       "    overflow: auto;\n",
       "  }\n",
       "  table, th, td {\n",
       "    border: 1px solid black;\n",
       "    border-collapse: collapse;\n",
       "  }\n",
       "  th, td {\n",
       "    padding: 5px;\n",
       "  }\n",
       "  th {\n",
       "    text-align: left;\n",
       "  }\n",
       "</style><div class='table-result-container'><table class='table-result'><thead style='background-color: white'><tr><th>played_at</th><th>track_name</th><th>artist</th><th>album</th><th>duration_ms</th></tr></thead><tbody><tr><td>2025-10-03T07:59:24.960Z</td><td>CANCELLED!</td><td>Taylor Swift</td><td>The Life of a Showgirl</td><td>211498</td></tr><tr><td>2025-10-03T07:55:53.286Z</td><td>CANCELLED!</td><td>Taylor Swift</td><td>The Life of a Showgirl</td><td>211498</td></tr><tr><td>2025-10-03T07:46:47.291Z</td><td>CANCELLED!</td><td>Taylor Swift</td><td>The Life of a Showgirl</td><td>211498</td></tr><tr><td>2025-10-03T07:43:30.130Z</td><td>CANCELLED!</td><td>Taylor Swift</td><td>The Life of a Showgirl</td><td>211498</td></tr><tr><td>2025-10-03T07:38:24.067Z</td><td>CANCELLED!</td><td>Taylor Swift</td><td>The Life of a Showgirl</td><td>211498</td></tr><tr><td>2025-10-03T07:34:24.492Z</td><td>CANCELLED!</td><td>Taylor Swift</td><td>The Life of a Showgirl</td><td>211498</td></tr><tr><td>2025-10-03T07:15:58.905Z</td><td>Actually Romantic</td><td>Taylor Swift</td><td>The Life of a Showgirl</td><td>163699</td></tr><tr><td>2025-10-03T07:05:14.483Z</td><td>Ruin The Friendship</td><td>Taylor Swift</td><td>The Life of a Showgirl</td><td>220564</td></tr><tr><td>2025-10-03T07:00:56.012Z</td><td>Elizabeth Taylor</td><td>Taylor Swift</td><td>The Life of a Showgirl</td><td>208291</td></tr><tr><td>2025-10-03T06:57:27.481Z</td><td>The Fate of Ophelia</td><td>Taylor Swift</td><td>The Life of a Showgirl</td><td>226073</td></tr><tr><td>2025-10-03T06:51:30.486Z</td><td>CANCELLED!</td><td>Taylor Swift</td><td>The Life of a Showgirl</td><td>211498</td></tr><tr><td>2025-10-03T06:47:58.423Z</td><td>CANCELLED!</td><td>Taylor Swift</td><td>The Life of a Showgirl</td><td>211498</td></tr><tr><td>2025-10-03T06:43:45.785Z</td><td>CANCELLED!</td><td>Taylor Swift</td><td>The Life of a Showgirl</td><td>211498</td></tr><tr><td>2025-10-03T06:31:02.375Z</td><td>CANCELLED!</td><td>Taylor Swift</td><td>The Life of a Showgirl</td><td>211498</td></tr><tr><td>2025-10-03T06:26:06.988Z</td><td>CANCELLED!</td><td>Taylor Swift</td><td>The Life of a Showgirl</td><td>211498</td></tr><tr><td>2025-10-03T06:16:36.042Z</td><td>Father Figure</td><td>Taylor Swift</td><td>The Life of a Showgirl</td><td>212777</td></tr><tr><td>2025-10-03T06:12:19.130Z</td><td>The Life of a Showgirl (feat. Sabrina Carpenter)</td><td>Taylor Swift</td><td>The Life of a Showgirl</td><td>241766</td></tr><tr><td>2025-10-03T06:05:31.474Z</td><td>CANCELLED!</td><td>Taylor Swift</td><td>The Life of a Showgirl</td><td>211498</td></tr><tr><td>2025-10-03T06:01:22.395Z</td><td>Wood</td><td>Taylor Swift</td><td>The Life of a Showgirl</td><td>150517</td></tr><tr><td>2025-10-03T05:58:56.459Z</td><td>Wi$h Li$t</td><td>Taylor Swift</td><td>The Life of a Showgirl</td><td>207349</td></tr><tr><td>2025-10-03T05:56:11.977Z</td><td>Actually Romantic</td><td>Taylor Swift</td><td>The Life of a Showgirl</td><td>163699</td></tr><tr><td>2025-10-03T05:53:44.505Z</td><td>Wood</td><td>Taylor Swift</td><td>The Life of a Showgirl</td><td>150517</td></tr><tr><td>2025-10-03T05:51:14.015Z</td><td>Wi$h Li$t</td><td>Taylor Swift</td><td>The Life of a Showgirl</td><td>207349</td></tr><tr><td>2025-10-03T05:47:47.124Z</td><td>Actually Romantic</td><td>Taylor Swift</td><td>The Life of a Showgirl</td><td>163699</td></tr><tr><td>2025-10-03T05:44:07.698Z</td><td>Wood</td><td>Taylor Swift</td><td>The Life of a Showgirl</td><td>150517</td></tr><tr><td>2025-10-03T05:41:37.230Z</td><td>Wi$h Li$t</td><td>Taylor Swift</td><td>The Life of a Showgirl</td><td>207349</td></tr><tr><td>2025-10-03T05:38:09.844Z</td><td>Actually Romantic</td><td>Taylor Swift</td><td>The Life of a Showgirl</td><td>163699</td></tr><tr><td>2025-10-03T05:15:24.219Z</td><td>Ruin The Friendship</td><td>Taylor Swift</td><td>The Life of a Showgirl</td><td>220564</td></tr><tr><td>2025-10-03T04:46:51.602Z</td><td>Eldest Daughter</td><td>Taylor Swift</td><td>The Life of a Showgirl</td><td>246356</td></tr><tr><td>2025-10-03T04:15:07.333Z</td><td>Father Figure</td><td>Taylor Swift</td><td>The Life of a Showgirl</td><td>212777</td></tr><tr><td>2025-10-03T04:11:18.865Z</td><td>Opalite</td><td>Taylor Swift</td><td>The Life of a Showgirl</td><td>235355</td></tr><tr><td>2025-10-03T04:07:23.347Z</td><td>Elizabeth Taylor</td><td>Taylor Swift</td><td>The Life of a Showgirl</td><td>208291</td></tr><tr><td>2025-10-03T04:03:55.232Z</td><td>The Fate of Ophelia</td><td>Taylor Swift</td><td>The Life of a Showgirl</td><td>226073</td></tr><tr><td>2025-10-03T00:25:47.233Z</td><td>The Prophecy</td><td>Taylor Swift</td><td>THE TORTURED POETS DEPARTMENT: THE ANTHOLOGY</td><td>249807</td></tr><tr><td>2025-08-31T08:29:01.080Z</td><td>Cruel Summer</td><td>Taylor Swift</td><td>Lover</td><td>178426</td></tr><tr><td>2025-08-30T09:24:19.127Z</td><td>Beauty And A Beat</td><td>Justin Bieber</td><td>Believe</td><td>227986</td></tr><tr><td>2025-08-30T09:20:00.090Z</td><td>On & On</td><td>Cartoon</td><td>On & On</td><td>207068</td></tr><tr><td>2025-08-30T09:16:37.169Z</td><td>Heart Attack</td><td>Demi Lovato</td><td>Demi</td><td>210840</td></tr><tr><td>2025-08-30T09:12:49.762Z</td><td>Young And Beautiful</td><td>Lana Del Rey</td><td>Young And Beautiful</td><td>236053</td></tr><tr><td>2025-08-30T09:09:07.807Z</td><td>Red (Taylor's Version)</td><td>Taylor Swift</td><td>Red (Taylor's Version)</td><td>223093</td></tr><tr><td>2025-08-30T09:08:56.641Z</td><td>Red (Taylor's Version)</td><td>Taylor Swift</td><td>Red (Taylor's Version)</td><td>223093</td></tr><tr><td>2025-08-28T15:10:33.923Z</td><td>I Like Me Better</td><td>Lauv</td><td>I met you when I was 18. (the playlist)</td><td>197436</td></tr><tr><td>2025-08-28T15:05:29.486Z</td><td>Your Love Is My Drug</td><td>Kesha</td><td>Animal (Expanded Edition)</td><td>187133</td></tr><tr><td>2025-08-28T15:02:21.355Z</td><td>Give Your Heart a Break</td><td>Demi Lovato</td><td>Unbroken</td><td>205346</td></tr><tr><td>2025-08-28T14:59:00.690Z</td><td>Summertime Sadness</td><td>Lana Del Rey</td><td>Born To Die - The Paradise Edition</td><td>265427</td></tr><tr><td>2025-08-28T14:56:14.532Z</td><td>Summertime Sadness</td><td>Lana Del Rey</td><td>Born To Die - The Paradise Edition</td><td>265427</td></tr><tr><td>2025-08-27T16:23:11.625Z</td><td>Beauty And A Beat</td><td>Justin Bieber</td><td>Believe</td><td>227986</td></tr><tr><td>2025-08-27T16:19:26.298Z</td><td>Give Your Heart a Break</td><td>Demi Lovato</td><td>Unbroken</td><td>205346</td></tr><tr><td>2025-08-27T16:15:58.010Z</td><td>Red (Taylor's Version)</td><td>Taylor Swift</td><td>Red (Taylor's Version)</td><td>223093</td></tr><tr><td>2025-08-27T16:12:04.309Z</td><td>DAISIES</td><td>Justin Bieber</td><td>SWAG</td><td>176453</td></tr></tbody></table></div>"
      ]
     },
     "metadata": {
      "application/vnd.databricks.v1+output": {
       "addedWidgets": {},
       "aggData": [],
       "aggError": "",
       "aggOverflow": false,
       "aggSchema": [],
       "aggSeriesLimitReached": false,
       "aggType": "",
       "arguments": {},
       "columnCustomDisplayInfos": {},
       "data": [
        [
         "2025-10-03T07:59:24.960Z",
         "CANCELLED!",
         "Taylor Swift",
         "The Life of a Showgirl",
         211498
        ],
        [
         "2025-10-03T07:55:53.286Z",
         "CANCELLED!",
         "Taylor Swift",
         "The Life of a Showgirl",
         211498
        ],
        [
         "2025-10-03T07:46:47.291Z",
         "CANCELLED!",
         "Taylor Swift",
         "The Life of a Showgirl",
         211498
        ],
        [
         "2025-10-03T07:43:30.130Z",
         "CANCELLED!",
         "Taylor Swift",
         "The Life of a Showgirl",
         211498
        ],
        [
         "2025-10-03T07:38:24.067Z",
         "CANCELLED!",
         "Taylor Swift",
         "The Life of a Showgirl",
         211498
        ],
        [
         "2025-10-03T07:34:24.492Z",
         "CANCELLED!",
         "Taylor Swift",
         "The Life of a Showgirl",
         211498
        ],
        [
         "2025-10-03T07:15:58.905Z",
         "Actually Romantic",
         "Taylor Swift",
         "The Life of a Showgirl",
         163699
        ],
        [
         "2025-10-03T07:05:14.483Z",
         "Ruin The Friendship",
         "Taylor Swift",
         "The Life of a Showgirl",
         220564
        ],
        [
         "2025-10-03T07:00:56.012Z",
         "Elizabeth Taylor",
         "Taylor Swift",
         "The Life of a Showgirl",
         208291
        ],
        [
         "2025-10-03T06:57:27.481Z",
         "The Fate of Ophelia",
         "Taylor Swift",
         "The Life of a Showgirl",
         226073
        ],
        [
         "2025-10-03T06:51:30.486Z",
         "CANCELLED!",
         "Taylor Swift",
         "The Life of a Showgirl",
         211498
        ],
        [
         "2025-10-03T06:47:58.423Z",
         "CANCELLED!",
         "Taylor Swift",
         "The Life of a Showgirl",
         211498
        ],
        [
         "2025-10-03T06:43:45.785Z",
         "CANCELLED!",
         "Taylor Swift",
         "The Life of a Showgirl",
         211498
        ],
        [
         "2025-10-03T06:31:02.375Z",
         "CANCELLED!",
         "Taylor Swift",
         "The Life of a Showgirl",
         211498
        ],
        [
         "2025-10-03T06:26:06.988Z",
         "CANCELLED!",
         "Taylor Swift",
         "The Life of a Showgirl",
         211498
        ],
        [
         "2025-10-03T06:16:36.042Z",
         "Father Figure",
         "Taylor Swift",
         "The Life of a Showgirl",
         212777
        ],
        [
         "2025-10-03T06:12:19.130Z",
         "The Life of a Showgirl (feat. Sabrina Carpenter)",
         "Taylor Swift",
         "The Life of a Showgirl",
         241766
        ],
        [
         "2025-10-03T06:05:31.474Z",
         "CANCELLED!",
         "Taylor Swift",
         "The Life of a Showgirl",
         211498
        ],
        [
         "2025-10-03T06:01:22.395Z",
         "Wood",
         "Taylor Swift",
         "The Life of a Showgirl",
         150517
        ],
        [
         "2025-10-03T05:58:56.459Z",
         "Wi$h Li$t",
         "Taylor Swift",
         "The Life of a Showgirl",
         207349
        ],
        [
         "2025-10-03T05:56:11.977Z",
         "Actually Romantic",
         "Taylor Swift",
         "The Life of a Showgirl",
         163699
        ],
        [
         "2025-10-03T05:53:44.505Z",
         "Wood",
         "Taylor Swift",
         "The Life of a Showgirl",
         150517
        ],
        [
         "2025-10-03T05:51:14.015Z",
         "Wi$h Li$t",
         "Taylor Swift",
         "The Life of a Showgirl",
         207349
        ],
        [
         "2025-10-03T05:47:47.124Z",
         "Actually Romantic",
         "Taylor Swift",
         "The Life of a Showgirl",
         163699
        ],
        [
         "2025-10-03T05:44:07.698Z",
         "Wood",
         "Taylor Swift",
         "The Life of a Showgirl",
         150517
        ],
        [
         "2025-10-03T05:41:37.230Z",
         "Wi$h Li$t",
         "Taylor Swift",
         "The Life of a Showgirl",
         207349
        ],
        [
         "2025-10-03T05:38:09.844Z",
         "Actually Romantic",
         "Taylor Swift",
         "The Life of a Showgirl",
         163699
        ],
        [
         "2025-10-03T05:15:24.219Z",
         "Ruin The Friendship",
         "Taylor Swift",
         "The Life of a Showgirl",
         220564
        ],
        [
         "2025-10-03T04:46:51.602Z",
         "Eldest Daughter",
         "Taylor Swift",
         "The Life of a Showgirl",
         246356
        ],
        [
         "2025-10-03T04:15:07.333Z",
         "Father Figure",
         "Taylor Swift",
         "The Life of a Showgirl",
         212777
        ],
        [
         "2025-10-03T04:11:18.865Z",
         "Opalite",
         "Taylor Swift",
         "The Life of a Showgirl",
         235355
        ],
        [
         "2025-10-03T04:07:23.347Z",
         "Elizabeth Taylor",
         "Taylor Swift",
         "The Life of a Showgirl",
         208291
        ],
        [
         "2025-10-03T04:03:55.232Z",
         "The Fate of Ophelia",
         "Taylor Swift",
         "The Life of a Showgirl",
         226073
        ],
        [
         "2025-10-03T00:25:47.233Z",
         "The Prophecy",
         "Taylor Swift",
         "THE TORTURED POETS DEPARTMENT: THE ANTHOLOGY",
         249807
        ],
        [
         "2025-08-31T08:29:01.080Z",
         "Cruel Summer",
         "Taylor Swift",
         "Lover",
         178426
        ],
        [
         "2025-08-30T09:24:19.127Z",
         "Beauty And A Beat",
         "Justin Bieber",
         "Believe",
         227986
        ],
        [
         "2025-08-30T09:20:00.090Z",
         "On & On",
         "Cartoon",
         "On & On",
         207068
        ],
        [
         "2025-08-30T09:16:37.169Z",
         "Heart Attack",
         "Demi Lovato",
         "Demi",
         210840
        ],
        [
         "2025-08-30T09:12:49.762Z",
         "Young And Beautiful",
         "Lana Del Rey",
         "Young And Beautiful",
         236053
        ],
        [
         "2025-08-30T09:09:07.807Z",
         "Red (Taylor's Version)",
         "Taylor Swift",
         "Red (Taylor's Version)",
         223093
        ],
        [
         "2025-08-30T09:08:56.641Z",
         "Red (Taylor's Version)",
         "Taylor Swift",
         "Red (Taylor's Version)",
         223093
        ],
        [
         "2025-08-28T15:10:33.923Z",
         "I Like Me Better",
         "Lauv",
         "I met you when I was 18. (the playlist)",
         197436
        ],
        [
         "2025-08-28T15:05:29.486Z",
         "Your Love Is My Drug",
         "Kesha",
         "Animal (Expanded Edition)",
         187133
        ],
        [
         "2025-08-28T15:02:21.355Z",
         "Give Your Heart a Break",
         "Demi Lovato",
         "Unbroken",
         205346
        ],
        [
         "2025-08-28T14:59:00.690Z",
         "Summertime Sadness",
         "Lana Del Rey",
         "Born To Die - The Paradise Edition",
         265427
        ],
        [
         "2025-08-28T14:56:14.532Z",
         "Summertime Sadness",
         "Lana Del Rey",
         "Born To Die - The Paradise Edition",
         265427
        ],
        [
         "2025-08-27T16:23:11.625Z",
         "Beauty And A Beat",
         "Justin Bieber",
         "Believe",
         227986
        ],
        [
         "2025-08-27T16:19:26.298Z",
         "Give Your Heart a Break",
         "Demi Lovato",
         "Unbroken",
         205346
        ],
        [
         "2025-08-27T16:15:58.010Z",
         "Red (Taylor's Version)",
         "Taylor Swift",
         "Red (Taylor's Version)",
         223093
        ],
        [
         "2025-08-27T16:12:04.309Z",
         "DAISIES",
         "Justin Bieber",
         "SWAG",
         176453
        ]
       ],
       "datasetInfos": [],
       "dbfsResultPath": null,
       "isJsonSchema": true,
       "metadata": {},
       "overflow": false,
       "plotOptions": {
        "customPlotOptions": {},
        "displayType": "table",
        "pivotAggregation": null,
        "pivotColumns": null,
        "xColumns": null,
        "yColumns": null
       },
       "removedWidgets": [],
       "schema": [
        {
         "metadata": "{}",
         "name": "played_at",
         "type": "\"timestamp\""
        },
        {
         "metadata": "{}",
         "name": "track_name",
         "type": "\"string\""
        },
        {
         "metadata": "{}",
         "name": "artist",
         "type": "\"string\""
        },
        {
         "metadata": "{}",
         "name": "album",
         "type": "\"string\""
        },
        {
         "metadata": "{}",
         "name": "duration_ms",
         "type": "\"integer\""
        }
       ],
       "type": "table"
      }
     },
     "output_type": "display_data"
    },
    {
     "output_type": "stream",
     "name": "stdout",
     "output_type": "stream",
     "text": [
      "root\n |-- played_at: timestamp (nullable = true)\n |-- track_name: string (nullable = true)\n |-- artist: string (nullable = true)\n |-- album: string (nullable = true)\n |-- duration_ms: integer (nullable = true)\n\n"
     ]
    }
   ],
   "source": [
    "bronze_df=spark.read.format(\"csv\").option(\"header\", \"true\").option(\"inferSchema\",\"true\").load(\"/Volumes/workspace/default/spotify_data/spotify_recent.csv\")\n",
    "display(bronze_df)\n",
    "bronze_df.printSchema()"
   ]
  },
  {
   "cell_type": "code",
   "execution_count": 0,
   "metadata": {
    "application/vnd.databricks.v1+cell": {
     "cellMetadata": {
      "byteLimit": 2048000,
      "rowLimit": 10000
     },
     "inputWidgets": {},
     "nuid": "a48ad9bd-7bc4-4d10-acd7-4717338b7fc9",
     "showTitle": false,
     "tableResultSettingsMap": {
      "0": {
       "dataGridStateBlob": "{\"version\":1,\"tableState\":{\"columnPinning\":{\"left\":[\"#row_number#\"],\"right\":[]},\"columnSizing\":{\"played_at\":218},\"columnVisibility\":{}},\"settings\":{\"columns\":{}},\"syncTimestamp\":1759486594422}",
       "filterBlob": null,
       "queryPlanFiltersBlob": null,
       "tableResultIndex": 0
      }
     },
     "title": ""
    }
   },
   "outputs": [
    {
     "output_type": "display_data",
     "data": {
      "text/html": [
       "<style scoped>\n",
       "  .table-result-container {\n",
       "    max-height: 300px;\n",
       "    overflow: auto;\n",
       "  }\n",
       "  table, th, td {\n",
       "    border: 1px solid black;\n",
       "    border-collapse: collapse;\n",
       "  }\n",
       "  th, td {\n",
       "    padding: 5px;\n",
       "  }\n",
       "  th {\n",
       "    text-align: left;\n",
       "  }\n",
       "</style><div class='table-result-container'><table class='table-result'><thead style='background-color: white'><tr><th>played_at</th><th>track</th><th>artist</th><th>album</th><th>duration_ms</th></tr></thead><tbody><tr><td>2025-10-03T06:05:31.474Z</td><td>CANCELLED!</td><td>Taylor Swift</td><td>The Life of a Showgirl</td><td>211498</td></tr><tr><td>2025-08-30T09:09:07.807Z</td><td>Red (Taylor's Version)</td><td>Taylor Swift</td><td>Red (Taylor's Version)</td><td>223093</td></tr><tr><td>2025-10-03T06:57:27.481Z</td><td>The Fate of Ophelia</td><td>Taylor Swift</td><td>The Life of a Showgirl</td><td>226073</td></tr><tr><td>2025-10-03T05:38:09.844Z</td><td>Actually Romantic</td><td>Taylor Swift</td><td>The Life of a Showgirl</td><td>163699</td></tr><tr><td>2025-08-27T16:19:26.298Z</td><td>Give Your Heart a Break</td><td>Demi Lovato</td><td>Unbroken</td><td>205346</td></tr><tr><td>2025-10-03T05:44:07.698Z</td><td>Wood</td><td>Taylor Swift</td><td>The Life of a Showgirl</td><td>150517</td></tr><tr><td>2025-08-28T15:10:33.923Z</td><td>I Like Me Better</td><td>Lauv</td><td>I met you when I was 18. (the playlist)</td><td>197436</td></tr><tr><td>2025-10-03T04:11:18.865Z</td><td>Opalite</td><td>Taylor Swift</td><td>The Life of a Showgirl</td><td>235355</td></tr><tr><td>2025-08-28T14:56:14.532Z</td><td>Summertime Sadness</td><td>Lana Del Rey</td><td>Born To Die - The Paradise Edition</td><td>265427</td></tr><tr><td>2025-10-03T06:51:30.486Z</td><td>CANCELLED!</td><td>Taylor Swift</td><td>The Life of a Showgirl</td><td>211498</td></tr><tr><td>2025-08-30T09:16:37.169Z</td><td>Heart Attack</td><td>Demi Lovato</td><td>Demi</td><td>210840</td></tr><tr><td>2025-10-03T05:15:24.219Z</td><td>Ruin The Friendship</td><td>Taylor Swift</td><td>The Life of a Showgirl</td><td>220564</td></tr><tr><td>2025-10-03T06:16:36.042Z</td><td>Father Figure</td><td>Taylor Swift</td><td>The Life of a Showgirl</td><td>212777</td></tr><tr><td>2025-08-28T15:05:29.486Z</td><td>Your Love Is My Drug</td><td>Kesha</td><td>Animal (Expanded Edition)</td><td>187133</td></tr><tr><td>2025-10-03T07:55:53.286Z</td><td>CANCELLED!</td><td>Taylor Swift</td><td>The Life of a Showgirl</td><td>211498</td></tr><tr><td>2025-08-30T09:12:49.762Z</td><td>Young And Beautiful</td><td>Lana Del Rey</td><td>Young And Beautiful</td><td>236053</td></tr><tr><td>2025-10-03T07:34:24.492Z</td><td>CANCELLED!</td><td>Taylor Swift</td><td>The Life of a Showgirl</td><td>211498</td></tr><tr><td>2025-10-03T07:59:24.960Z</td><td>CANCELLED!</td><td>Taylor Swift</td><td>The Life of a Showgirl</td><td>211498</td></tr><tr><td>2025-10-03T04:03:55.232Z</td><td>The Fate of Ophelia</td><td>Taylor Swift</td><td>The Life of a Showgirl</td><td>226073</td></tr><tr><td>2025-10-03T06:43:45.785Z</td><td>CANCELLED!</td><td>Taylor Swift</td><td>The Life of a Showgirl</td><td>211498</td></tr><tr><td>2025-08-30T09:24:19.127Z</td><td>Beauty And A Beat</td><td>Justin Bieber</td><td>Believe</td><td>227986</td></tr><tr><td>2025-08-27T16:12:04.309Z</td><td>DAISIES</td><td>Justin Bieber</td><td>SWAG</td><td>176453</td></tr><tr><td>2025-08-27T16:23:11.625Z</td><td>Beauty And A Beat</td><td>Justin Bieber</td><td>Believe</td><td>227986</td></tr><tr><td>2025-10-03T05:58:56.459Z</td><td>Wi$h Li$t</td><td>Taylor Swift</td><td>The Life of a Showgirl</td><td>207349</td></tr><tr><td>2025-10-03T05:47:47.124Z</td><td>Actually Romantic</td><td>Taylor Swift</td><td>The Life of a Showgirl</td><td>163699</td></tr><tr><td>2025-08-30T09:20:00.090Z</td><td>On & On</td><td>Cartoon</td><td>On & On</td><td>207068</td></tr><tr><td>2025-10-03T07:00:56.012Z</td><td>Elizabeth Taylor</td><td>Taylor Swift</td><td>The Life of a Showgirl</td><td>208291</td></tr><tr><td>2025-08-28T14:59:00.690Z</td><td>Summertime Sadness</td><td>Lana Del Rey</td><td>Born To Die - The Paradise Edition</td><td>265427</td></tr><tr><td>2025-10-03T06:01:22.395Z</td><td>Wood</td><td>Taylor Swift</td><td>The Life of a Showgirl</td><td>150517</td></tr><tr><td>2025-10-03T06:26:06.988Z</td><td>CANCELLED!</td><td>Taylor Swift</td><td>The Life of a Showgirl</td><td>211498</td></tr><tr><td>2025-10-03T07:43:30.130Z</td><td>CANCELLED!</td><td>Taylor Swift</td><td>The Life of a Showgirl</td><td>211498</td></tr><tr><td>2025-10-03T05:53:44.505Z</td><td>Wood</td><td>Taylor Swift</td><td>The Life of a Showgirl</td><td>150517</td></tr><tr><td>2025-10-03T04:07:23.347Z</td><td>Elizabeth Taylor</td><td>Taylor Swift</td><td>The Life of a Showgirl</td><td>208291</td></tr><tr><td>2025-10-03T06:47:58.423Z</td><td>CANCELLED!</td><td>Taylor Swift</td><td>The Life of a Showgirl</td><td>211498</td></tr><tr><td>2025-08-30T09:08:56.641Z</td><td>Red (Taylor's Version)</td><td>Taylor Swift</td><td>Red (Taylor's Version)</td><td>223093</td></tr><tr><td>2025-10-03T05:51:14.015Z</td><td>Wi$h Li$t</td><td>Taylor Swift</td><td>The Life of a Showgirl</td><td>207349</td></tr><tr><td>2025-10-03T05:41:37.230Z</td><td>Wi$h Li$t</td><td>Taylor Swift</td><td>The Life of a Showgirl</td><td>207349</td></tr><tr><td>2025-10-03T06:12:19.130Z</td><td>The Life of a Showgirl (feat. Sabrina Carpenter)</td><td>Taylor Swift</td><td>The Life of a Showgirl</td><td>241766</td></tr><tr><td>2025-08-27T16:15:58.010Z</td><td>Red (Taylor's Version)</td><td>Taylor Swift</td><td>Red (Taylor's Version)</td><td>223093</td></tr><tr><td>2025-10-03T04:15:07.333Z</td><td>Father Figure</td><td>Taylor Swift</td><td>The Life of a Showgirl</td><td>212777</td></tr><tr><td>2025-10-03T00:25:47.233Z</td><td>The Prophecy</td><td>Taylor Swift</td><td>THE TORTURED POETS DEPARTMENT: THE ANTHOLOGY</td><td>249807</td></tr><tr><td>2025-10-03T07:05:14.483Z</td><td>Ruin The Friendship</td><td>Taylor Swift</td><td>The Life of a Showgirl</td><td>220564</td></tr><tr><td>2025-08-28T15:02:21.355Z</td><td>Give Your Heart a Break</td><td>Demi Lovato</td><td>Unbroken</td><td>205346</td></tr><tr><td>2025-10-03T05:56:11.977Z</td><td>Actually Romantic</td><td>Taylor Swift</td><td>The Life of a Showgirl</td><td>163699</td></tr><tr><td>2025-10-03T04:46:51.602Z</td><td>Eldest Daughter</td><td>Taylor Swift</td><td>The Life of a Showgirl</td><td>246356</td></tr><tr><td>2025-10-03T07:38:24.067Z</td><td>CANCELLED!</td><td>Taylor Swift</td><td>The Life of a Showgirl</td><td>211498</td></tr><tr><td>2025-10-03T06:31:02.375Z</td><td>CANCELLED!</td><td>Taylor Swift</td><td>The Life of a Showgirl</td><td>211498</td></tr><tr><td>2025-08-31T08:29:01.080Z</td><td>Cruel Summer</td><td>Taylor Swift</td><td>Lover</td><td>178426</td></tr><tr><td>2025-10-03T07:46:47.291Z</td><td>CANCELLED!</td><td>Taylor Swift</td><td>The Life of a Showgirl</td><td>211498</td></tr><tr><td>2025-10-03T07:15:58.905Z</td><td>Actually Romantic</td><td>Taylor Swift</td><td>The Life of a Showgirl</td><td>163699</td></tr></tbody></table></div>"
      ]
     },
     "metadata": {
      "application/vnd.databricks.v1+output": {
       "addedWidgets": {},
       "aggData": [],
       "aggError": "",
       "aggOverflow": false,
       "aggSchema": [],
       "aggSeriesLimitReached": false,
       "aggType": "",
       "arguments": {},
       "columnCustomDisplayInfos": {},
       "data": [
        [
         "2025-10-03T06:05:31.474Z",
         "CANCELLED!",
         "Taylor Swift",
         "The Life of a Showgirl",
         211498
        ],
        [
         "2025-08-30T09:09:07.807Z",
         "Red (Taylor's Version)",
         "Taylor Swift",
         "Red (Taylor's Version)",
         223093
        ],
        [
         "2025-10-03T06:57:27.481Z",
         "The Fate of Ophelia",
         "Taylor Swift",
         "The Life of a Showgirl",
         226073
        ],
        [
         "2025-10-03T05:38:09.844Z",
         "Actually Romantic",
         "Taylor Swift",
         "The Life of a Showgirl",
         163699
        ],
        [
         "2025-08-27T16:19:26.298Z",
         "Give Your Heart a Break",
         "Demi Lovato",
         "Unbroken",
         205346
        ],
        [
         "2025-10-03T05:44:07.698Z",
         "Wood",
         "Taylor Swift",
         "The Life of a Showgirl",
         150517
        ],
        [
         "2025-08-28T15:10:33.923Z",
         "I Like Me Better",
         "Lauv",
         "I met you when I was 18. (the playlist)",
         197436
        ],
        [
         "2025-10-03T04:11:18.865Z",
         "Opalite",
         "Taylor Swift",
         "The Life of a Showgirl",
         235355
        ],
        [
         "2025-08-28T14:56:14.532Z",
         "Summertime Sadness",
         "Lana Del Rey",
         "Born To Die - The Paradise Edition",
         265427
        ],
        [
         "2025-10-03T06:51:30.486Z",
         "CANCELLED!",
         "Taylor Swift",
         "The Life of a Showgirl",
         211498
        ],
        [
         "2025-08-30T09:16:37.169Z",
         "Heart Attack",
         "Demi Lovato",
         "Demi",
         210840
        ],
        [
         "2025-10-03T05:15:24.219Z",
         "Ruin The Friendship",
         "Taylor Swift",
         "The Life of a Showgirl",
         220564
        ],
        [
         "2025-10-03T06:16:36.042Z",
         "Father Figure",
         "Taylor Swift",
         "The Life of a Showgirl",
         212777
        ],
        [
         "2025-08-28T15:05:29.486Z",
         "Your Love Is My Drug",
         "Kesha",
         "Animal (Expanded Edition)",
         187133
        ],
        [
         "2025-10-03T07:55:53.286Z",
         "CANCELLED!",
         "Taylor Swift",
         "The Life of a Showgirl",
         211498
        ],
        [
         "2025-08-30T09:12:49.762Z",
         "Young And Beautiful",
         "Lana Del Rey",
         "Young And Beautiful",
         236053
        ],
        [
         "2025-10-03T07:34:24.492Z",
         "CANCELLED!",
         "Taylor Swift",
         "The Life of a Showgirl",
         211498
        ],
        [
         "2025-10-03T07:59:24.960Z",
         "CANCELLED!",
         "Taylor Swift",
         "The Life of a Showgirl",
         211498
        ],
        [
         "2025-10-03T04:03:55.232Z",
         "The Fate of Ophelia",
         "Taylor Swift",
         "The Life of a Showgirl",
         226073
        ],
        [
         "2025-10-03T06:43:45.785Z",
         "CANCELLED!",
         "Taylor Swift",
         "The Life of a Showgirl",
         211498
        ],
        [
         "2025-08-30T09:24:19.127Z",
         "Beauty And A Beat",
         "Justin Bieber",
         "Believe",
         227986
        ],
        [
         "2025-08-27T16:12:04.309Z",
         "DAISIES",
         "Justin Bieber",
         "SWAG",
         176453
        ],
        [
         "2025-08-27T16:23:11.625Z",
         "Beauty And A Beat",
         "Justin Bieber",
         "Believe",
         227986
        ],
        [
         "2025-10-03T05:58:56.459Z",
         "Wi$h Li$t",
         "Taylor Swift",
         "The Life of a Showgirl",
         207349
        ],
        [
         "2025-10-03T05:47:47.124Z",
         "Actually Romantic",
         "Taylor Swift",
         "The Life of a Showgirl",
         163699
        ],
        [
         "2025-08-30T09:20:00.090Z",
         "On & On",
         "Cartoon",
         "On & On",
         207068
        ],
        [
         "2025-10-03T07:00:56.012Z",
         "Elizabeth Taylor",
         "Taylor Swift",
         "The Life of a Showgirl",
         208291
        ],
        [
         "2025-08-28T14:59:00.690Z",
         "Summertime Sadness",
         "Lana Del Rey",
         "Born To Die - The Paradise Edition",
         265427
        ],
        [
         "2025-10-03T06:01:22.395Z",
         "Wood",
         "Taylor Swift",
         "The Life of a Showgirl",
         150517
        ],
        [
         "2025-10-03T06:26:06.988Z",
         "CANCELLED!",
         "Taylor Swift",
         "The Life of a Showgirl",
         211498
        ],
        [
         "2025-10-03T07:43:30.130Z",
         "CANCELLED!",
         "Taylor Swift",
         "The Life of a Showgirl",
         211498
        ],
        [
         "2025-10-03T05:53:44.505Z",
         "Wood",
         "Taylor Swift",
         "The Life of a Showgirl",
         150517
        ],
        [
         "2025-10-03T04:07:23.347Z",
         "Elizabeth Taylor",
         "Taylor Swift",
         "The Life of a Showgirl",
         208291
        ],
        [
         "2025-10-03T06:47:58.423Z",
         "CANCELLED!",
         "Taylor Swift",
         "The Life of a Showgirl",
         211498
        ],
        [
         "2025-08-30T09:08:56.641Z",
         "Red (Taylor's Version)",
         "Taylor Swift",
         "Red (Taylor's Version)",
         223093
        ],
        [
         "2025-10-03T05:51:14.015Z",
         "Wi$h Li$t",
         "Taylor Swift",
         "The Life of a Showgirl",
         207349
        ],
        [
         "2025-10-03T05:41:37.230Z",
         "Wi$h Li$t",
         "Taylor Swift",
         "The Life of a Showgirl",
         207349
        ],
        [
         "2025-10-03T06:12:19.130Z",
         "The Life of a Showgirl (feat. Sabrina Carpenter)",
         "Taylor Swift",
         "The Life of a Showgirl",
         241766
        ],
        [
         "2025-08-27T16:15:58.010Z",
         "Red (Taylor's Version)",
         "Taylor Swift",
         "Red (Taylor's Version)",
         223093
        ],
        [
         "2025-10-03T04:15:07.333Z",
         "Father Figure",
         "Taylor Swift",
         "The Life of a Showgirl",
         212777
        ],
        [
         "2025-10-03T00:25:47.233Z",
         "The Prophecy",
         "Taylor Swift",
         "THE TORTURED POETS DEPARTMENT: THE ANTHOLOGY",
         249807
        ],
        [
         "2025-10-03T07:05:14.483Z",
         "Ruin The Friendship",
         "Taylor Swift",
         "The Life of a Showgirl",
         220564
        ],
        [
         "2025-08-28T15:02:21.355Z",
         "Give Your Heart a Break",
         "Demi Lovato",
         "Unbroken",
         205346
        ],
        [
         "2025-10-03T05:56:11.977Z",
         "Actually Romantic",
         "Taylor Swift",
         "The Life of a Showgirl",
         163699
        ],
        [
         "2025-10-03T04:46:51.602Z",
         "Eldest Daughter",
         "Taylor Swift",
         "The Life of a Showgirl",
         246356
        ],
        [
         "2025-10-03T07:38:24.067Z",
         "CANCELLED!",
         "Taylor Swift",
         "The Life of a Showgirl",
         211498
        ],
        [
         "2025-10-03T06:31:02.375Z",
         "CANCELLED!",
         "Taylor Swift",
         "The Life of a Showgirl",
         211498
        ],
        [
         "2025-08-31T08:29:01.080Z",
         "Cruel Summer",
         "Taylor Swift",
         "Lover",
         178426
        ],
        [
         "2025-10-03T07:46:47.291Z",
         "CANCELLED!",
         "Taylor Swift",
         "The Life of a Showgirl",
         211498
        ],
        [
         "2025-10-03T07:15:58.905Z",
         "Actually Romantic",
         "Taylor Swift",
         "The Life of a Showgirl",
         163699
        ]
       ],
       "datasetInfos": [],
       "dbfsResultPath": null,
       "isJsonSchema": true,
       "metadata": {},
       "overflow": false,
       "plotOptions": {
        "customPlotOptions": {},
        "displayType": "table",
        "pivotAggregation": null,
        "pivotColumns": null,
        "xColumns": null,
        "yColumns": null
       },
       "removedWidgets": [],
       "schema": [
        {
         "metadata": "{}",
         "name": "played_at",
         "type": "\"timestamp\""
        },
        {
         "metadata": "{}",
         "name": "track",
         "type": "\"string\""
        },
        {
         "metadata": "{}",
         "name": "artist",
         "type": "\"string\""
        },
        {
         "metadata": "{}",
         "name": "album",
         "type": "\"string\""
        },
        {
         "metadata": "{}",
         "name": "duration_ms",
         "type": "\"integer\""
        }
       ],
       "type": "table"
      }
     },
     "output_type": "display_data"
    },
    {
     "output_type": "stream",
     "name": "stdout",
     "output_type": "stream",
     "text": [
      "root\n |-- played_at: timestamp (nullable = true)\n |-- track: string (nullable = true)\n |-- artist: string (nullable = true)\n |-- album: string (nullable = true)\n |-- duration_ms: integer (nullable = true)\n\n"
     ]
    }
   ],
   "source": [
    "from pyspark.sql.functions import *\n",
    "\n",
    "silver_df = bronze_df \\\n",
    "    .withColumnRenamed(\"track_name\", \"track\") \\\n",
    "    .withColumn(\"track\", trim(col(\"track\"))) \\\n",
    "    .withColumn(\"artist\", trim(col(\"artist\"))) \\\n",
    "    .withColumn(\"album\", trim(col(\"album\"))) \\\n",
    "    .dropna() \\\n",
    "    .dropDuplicates()\n",
    "\n",
    "display(silver_df)\n",
    "silver_df.printSchema()\n"
   ]
  },
  {
   "cell_type": "markdown",
   "metadata": {
    "application/vnd.databricks.v1+cell": {
     "cellMetadata": {
      "byteLimit": 2048000,
      "rowLimit": 10000
     },
     "inputWidgets": {},
     "nuid": "9ac1dc74-b2dd-48ff-b061-781861730242",
     "showTitle": false,
     "tableResultSettingsMap": {},
     "title": ""
    }
   },
   "source": [
    "**Top Artists by Play Count**"
   ]
  },
  {
   "cell_type": "code",
   "execution_count": 0,
   "metadata": {
    "application/vnd.databricks.v1+cell": {
     "cellMetadata": {
      "byteLimit": 2048000,
      "rowLimit": 10000
     },
     "inputWidgets": {},
     "nuid": "10407154-9090-4148-81e9-cebb283b862d",
     "showTitle": false,
     "tableResultSettingsMap": {},
     "title": ""
    }
   },
   "outputs": [
    {
     "output_type": "display_data",
     "data": {
      "text/html": [
       "<style scoped>\n",
       "  .table-result-container {\n",
       "    max-height: 300px;\n",
       "    overflow: auto;\n",
       "  }\n",
       "  table, th, td {\n",
       "    border: 1px solid black;\n",
       "    border-collapse: collapse;\n",
       "  }\n",
       "  th, td {\n",
       "    padding: 5px;\n",
       "  }\n",
       "  th {\n",
       "    text-align: left;\n",
       "  }\n",
       "</style><div class='table-result-container'><table class='table-result'><thead style='background-color: white'><tr><th>artist</th><th>count</th></tr></thead><tbody><tr><td>Taylor Swift</td><td>38</td></tr><tr><td>Demi Lovato</td><td>3</td></tr><tr><td>Lana Del Rey</td><td>3</td></tr><tr><td>Justin Bieber</td><td>3</td></tr><tr><td>Lauv</td><td>1</td></tr><tr><td>Kesha</td><td>1</td></tr><tr><td>Cartoon</td><td>1</td></tr></tbody></table></div>"
      ]
     },
     "metadata": {
      "application/vnd.databricks.v1+output": {
       "addedWidgets": {},
       "aggData": [],
       "aggError": "",
       "aggOverflow": false,
       "aggSchema": [],
       "aggSeriesLimitReached": false,
       "aggType": "",
       "arguments": {},
       "columnCustomDisplayInfos": {},
       "data": [
        [
         "Taylor Swift",
         38
        ],
        [
         "Demi Lovato",
         3
        ],
        [
         "Lana Del Rey",
         3
        ],
        [
         "Justin Bieber",
         3
        ],
        [
         "Lauv",
         1
        ],
        [
         "Kesha",
         1
        ],
        [
         "Cartoon",
         1
        ]
       ],
       "datasetInfos": [],
       "dbfsResultPath": null,
       "isJsonSchema": true,
       "metadata": {},
       "overflow": false,
       "plotOptions": {
        "customPlotOptions": {},
        "displayType": "table",
        "pivotAggregation": null,
        "pivotColumns": null,
        "xColumns": null,
        "yColumns": null
       },
       "removedWidgets": [],
       "schema": [
        {
         "metadata": "{}",
         "name": "artist",
         "type": "\"string\""
        },
        {
         "metadata": "{}",
         "name": "count",
         "type": "\"long\""
        }
       ],
       "type": "table"
      }
     },
     "output_type": "display_data"
    }
   ],
   "source": [
    "gold_top_artists = silver_df\\\n",
    "    .groupBy(\"artist\").count()\\\n",
    "    .orderBy(col(\"count\").desc())\n",
    "display(gold_top_artists)\n",
    "gold_top_artists.write.mode(\"overwrite\").saveAsTable(\"gold_top_artists\")\n"
   ]
  },
  {
   "cell_type": "markdown",
   "metadata": {
    "application/vnd.databricks.v1+cell": {
     "cellMetadata": {
      "byteLimit": 2048000,
      "rowLimit": 10000
     },
     "inputWidgets": {},
     "nuid": "0ab6598b-f086-442c-842d-90016e158e49",
     "showTitle": false,
     "tableResultSettingsMap": {},
     "title": ""
    }
   },
   "source": [
    "**Listening Trends Over Time**"
   ]
  },
  {
   "cell_type": "code",
   "execution_count": 0,
   "metadata": {
    "application/vnd.databricks.v1+cell": {
     "cellMetadata": {
      "byteLimit": 2048000,
      "rowLimit": 10000
     },
     "inputWidgets": {},
     "nuid": "c41047e0-1e82-4163-9c19-8799560aca74",
     "showTitle": false,
     "tableResultSettingsMap": {},
     "title": ""
    }
   },
   "outputs": [
    {
     "output_type": "display_data",
     "data": {
      "text/html": [
       "<style scoped>\n",
       "  .table-result-container {\n",
       "    max-height: 300px;\n",
       "    overflow: auto;\n",
       "  }\n",
       "  table, th, td {\n",
       "    border: 1px solid black;\n",
       "    border-collapse: collapse;\n",
       "  }\n",
       "  th, td {\n",
       "    padding: 5px;\n",
       "  }\n",
       "  th {\n",
       "    text-align: left;\n",
       "  }\n",
       "</style><div class='table-result-container'><table class='table-result'><thead style='background-color: white'><tr><th>date</th><th>count</th></tr></thead><tbody><tr><td>2025-08-27</td><td>4</td></tr><tr><td>2025-08-28</td><td>5</td></tr><tr><td>2025-08-30</td><td>6</td></tr><tr><td>2025-08-31</td><td>1</td></tr><tr><td>2025-10-03</td><td>34</td></tr></tbody></table></div>"
      ]
     },
     "metadata": {
      "application/vnd.databricks.v1+output": {
       "addedWidgets": {},
       "aggData": [],
       "aggError": "",
       "aggOverflow": false,
       "aggSchema": [],
       "aggSeriesLimitReached": false,
       "aggType": "",
       "arguments": {},
       "columnCustomDisplayInfos": {},
       "data": [
        [
         "2025-08-27",
         4
        ],
        [
         "2025-08-28",
         5
        ],
        [
         "2025-08-30",
         6
        ],
        [
         "2025-08-31",
         1
        ],
        [
         "2025-10-03",
         34
        ]
       ],
       "datasetInfos": [],
       "dbfsResultPath": null,
       "isJsonSchema": true,
       "metadata": {},
       "overflow": false,
       "plotOptions": {
        "customPlotOptions": {},
        "displayType": "table",
        "pivotAggregation": null,
        "pivotColumns": null,
        "xColumns": null,
        "yColumns": null
       },
       "removedWidgets": [],
       "schema": [
        {
         "metadata": "{}",
         "name": "date",
         "type": "\"date\""
        },
        {
         "metadata": "{}",
         "name": "count",
         "type": "\"long\""
        }
       ],
       "type": "table"
      }
     },
     "output_type": "display_data"
    }
   ],
   "source": [
    "from pyspark.sql.functions import to_date\n",
    "\n",
    "gold_daily_trend = silver_df \\\n",
    "    .withColumn(\"date\", to_date(\"played_at\")) \\\n",
    "    .groupBy(\"date\") \\\n",
    "    .count() \\\n",
    "    .orderBy(\"date\")\n",
    "\n",
    "display(gold_daily_trend)\n",
    "gold_daily_trend.write.mode(\"overwrite\").saveAsTable(\"gold_daily_trend\")\n"
   ]
  },
  {
   "cell_type": "markdown",
   "metadata": {
    "application/vnd.databricks.v1+cell": {
     "cellMetadata": {
      "byteLimit": 2048000,
      "rowLimit": 10000
     },
     "inputWidgets": {},
     "nuid": "6e6e3ee4-974a-4096-a153-b005aa390c63",
     "showTitle": false,
     "tableResultSettingsMap": {},
     "title": ""
    }
   },
   "source": [
    "**Daily Pattern across Hours**"
   ]
  },
  {
   "cell_type": "code",
   "execution_count": 0,
   "metadata": {
    "application/vnd.databricks.v1+cell": {
     "cellMetadata": {
      "byteLimit": 2048000,
      "rowLimit": 10000
     },
     "inputWidgets": {},
     "nuid": "0b4158e1-bd51-4a17-8a28-38f7a81d2f28",
     "showTitle": false,
     "tableResultSettingsMap": {},
     "title": ""
    }
   },
   "outputs": [
    {
     "output_type": "display_data",
     "data": {
      "text/html": [
       "<style scoped>\n",
       "  .table-result-container {\n",
       "    max-height: 300px;\n",
       "    overflow: auto;\n",
       "  }\n",
       "  table, th, td {\n",
       "    border: 1px solid black;\n",
       "    border-collapse: collapse;\n",
       "  }\n",
       "  th, td {\n",
       "    padding: 5px;\n",
       "  }\n",
       "  th {\n",
       "    text-align: left;\n",
       "  }\n",
       "</style><div class='table-result-container'><table class='table-result'><thead style='background-color: white'><tr><th>time_of_day</th><th>count</th></tr></thead><tbody><tr><td>Morning</td><td>35</td></tr><tr><td>Afternoon</td><td>9</td></tr><tr><td>Night</td><td>6</td></tr></tbody></table></div>"
      ]
     },
     "metadata": {
      "application/vnd.databricks.v1+output": {
       "addedWidgets": {},
       "aggData": [],
       "aggError": "",
       "aggOverflow": false,
       "aggSchema": [],
       "aggSeriesLimitReached": false,
       "aggType": "",
       "arguments": {},
       "columnCustomDisplayInfos": {},
       "data": [
        [
         "Morning",
         35
        ],
        [
         "Afternoon",
         9
        ],
        [
         "Night",
         6
        ]
       ],
       "datasetInfos": [],
       "dbfsResultPath": null,
       "isJsonSchema": true,
       "metadata": {},
       "overflow": false,
       "plotOptions": {
        "customPlotOptions": {},
        "displayType": "table",
        "pivotAggregation": null,
        "pivotColumns": null,
        "xColumns": null,
        "yColumns": null
       },
       "removedWidgets": [],
       "schema": [
        {
         "metadata": "{}",
         "name": "time_of_day",
         "type": "\"string\""
        },
        {
         "metadata": "{}",
         "name": "count",
         "type": "\"long\""
        }
       ],
       "type": "table"
      }
     },
     "output_type": "display_data"
    }
   ],
   "source": [
    "from pyspark.sql.functions import when\n",
    "\n",
    "gold_daily_pattern = silver_df \\\n",
    "    .withColumn(\"hour\", hour(\"played_at\")) \\\n",
    "    .withColumn(\"time_of_day\",\n",
    "        when((col(\"hour\") >= 5) & (col(\"hour\") < 12), \"Morning\")\n",
    "        .when((col(\"hour\") >= 12) & (col(\"hour\") < 17), \"Afternoon\")\n",
    "        .when((col(\"hour\") >= 17) & (col(\"hour\") < 21), \"Evening\")\n",
    "        .otherwise(\"Night\")\n",
    "    ) \\\n",
    "    .groupBy(\"time_of_day\") \\\n",
    "    .count() \\\n",
    "    .orderBy(\"count\", ascending=False)\n",
    "\n",
    "display(gold_daily_pattern)\n",
    "gold_daily_pattern.write.mode(\"overwrite\").option(\"mergeSchema\", \"true\").saveAsTable(\"gold_daily_pattern\")"
   ]
  },
  {
   "cell_type": "markdown",
   "metadata": {
    "application/vnd.databricks.v1+cell": {
     "cellMetadata": {
      "byteLimit": 2048000,
      "rowLimit": 10000
     },
     "inputWidgets": {},
     "nuid": "5a3aad9b-4d4a-42d5-b735-d44de38d43f6",
     "showTitle": false,
     "tableResultSettingsMap": {},
     "title": ""
    }
   },
   "source": [
    "**Monday to Sunday Behavior**"
   ]
  },
  {
   "cell_type": "code",
   "execution_count": 0,
   "metadata": {
    "application/vnd.databricks.v1+cell": {
     "cellMetadata": {
      "byteLimit": 2048000,
      "rowLimit": 10000
     },
     "inputWidgets": {},
     "nuid": "25349830-171f-4843-bc67-5c06822126b6",
     "showTitle": false,
     "tableResultSettingsMap": {},
     "title": ""
    }
   },
   "outputs": [
    {
     "output_type": "display_data",
     "data": {
      "text/html": [
       "<style scoped>\n",
       "  .table-result-container {\n",
       "    max-height: 300px;\n",
       "    overflow: auto;\n",
       "  }\n",
       "  table, th, td {\n",
       "    border: 1px solid black;\n",
       "    border-collapse: collapse;\n",
       "  }\n",
       "  th, td {\n",
       "    padding: 5px;\n",
       "  }\n",
       "  th {\n",
       "    text-align: left;\n",
       "  }\n",
       "</style><div class='table-result-container'><table class='table-result'><thead style='background-color: white'><tr><th>day_of_week</th><th>hour</th><th>song_count</th></tr></thead><tbody><tr><td>Sunday</td><td>8</td><td>1</td></tr><tr><td>Wednesday</td><td>16</td><td>4</td></tr><tr><td>Thursday</td><td>14</td><td>2</td></tr><tr><td>Thursday</td><td>15</td><td>3</td></tr><tr><td>Friday</td><td>0</td><td>1</td></tr><tr><td>Friday</td><td>4</td><td>5</td></tr><tr><td>Friday</td><td>5</td><td>9</td></tr><tr><td>Friday</td><td>6</td><td>10</td></tr><tr><td>Friday</td><td>7</td><td>9</td></tr><tr><td>Saturday</td><td>9</td><td>6</td></tr></tbody></table></div>"
      ]
     },
     "metadata": {
      "application/vnd.databricks.v1+output": {
       "addedWidgets": {},
       "aggData": [],
       "aggError": "",
       "aggOverflow": false,
       "aggSchema": [],
       "aggSeriesLimitReached": false,
       "aggType": "",
       "arguments": {},
       "columnCustomDisplayInfos": {},
       "data": [
        [
         "Sunday",
         8,
         1
        ],
        [
         "Wednesday",
         16,
         4
        ],
        [
         "Thursday",
         14,
         2
        ],
        [
         "Thursday",
         15,
         3
        ],
        [
         "Friday",
         0,
         1
        ],
        [
         "Friday",
         4,
         5
        ],
        [
         "Friday",
         5,
         9
        ],
        [
         "Friday",
         6,
         10
        ],
        [
         "Friday",
         7,
         9
        ],
        [
         "Saturday",
         9,
         6
        ]
       ],
       "datasetInfos": [],
       "dbfsResultPath": null,
       "isJsonSchema": true,
       "metadata": {},
       "overflow": false,
       "plotOptions": {
        "customPlotOptions": {},
        "displayType": "table",
        "pivotAggregation": null,
        "pivotColumns": null,
        "xColumns": null,
        "yColumns": null
       },
       "removedWidgets": [],
       "schema": [
        {
         "metadata": "{}",
         "name": "day_of_week",
         "type": "\"string\""
        },
        {
         "metadata": "{}",
         "name": "hour",
         "type": "\"integer\""
        },
        {
         "metadata": "{}",
         "name": "song_count",
         "type": "\"long\""
        }
       ],
       "type": "table"
      }
     },
     "output_type": "display_data"
    }
   ],
   "source": [
    "from pyspark.sql.functions import hour, date_format, dayofweek, count\n",
    "\n",
    "gold_daywise_trend = silver_df \\\n",
    "    .withColumn(\"hour\", hour(\"played_at\")) \\\n",
    "    .withColumn(\"day_of_week\", date_format(\"played_at\", \"EEEE\")) \\\n",
    "    .withColumn(\"day_num\", dayofweek(\"played_at\")) \\\n",
    "    .groupBy(\"day_num\", \"day_of_week\", \"hour\") \\\n",
    "    .agg(count(\"*\").alias(\"song_count\")) \\\n",
    "    .orderBy(\"day_num\", \"hour\") \\\n",
    "    .drop(\"day_num\") #.drop hides it in final output\n",
    "\n",
    "display(gold_daywise_trend)\n",
    "gold_daywise_trend.write.mode(\"overwrite\").saveAsTable(\"gold_daywise_trend\")\n",
    "\n"
   ]
  },
  {
   "cell_type": "markdown",
   "metadata": {
    "application/vnd.databricks.v1+cell": {
     "cellMetadata": {
      "byteLimit": 2048000,
      "rowLimit": 10000
     },
     "inputWidgets": {},
     "nuid": "02b3a852-e961-4420-bb9e-cc19b312629c",
     "showTitle": false,
     "tableResultSettingsMap": {},
     "title": ""
    }
   },
   "source": [
    "**Weekday vs Weekend Behavior**"
   ]
  },
  {
   "cell_type": "code",
   "execution_count": 0,
   "metadata": {
    "application/vnd.databricks.v1+cell": {
     "cellMetadata": {
      "byteLimit": 2048000,
      "rowLimit": 10000
     },
     "inputWidgets": {},
     "nuid": "57243550-cb9d-4084-8e74-0cc7b61161d9",
     "showTitle": false,
     "tableResultSettingsMap": {},
     "title": ""
    }
   },
   "outputs": [
    {
     "output_type": "display_data",
     "data": {
      "text/html": [
       "<style scoped>\n",
       "  .table-result-container {\n",
       "    max-height: 300px;\n",
       "    overflow: auto;\n",
       "  }\n",
       "  table, th, td {\n",
       "    border: 1px solid black;\n",
       "    border-collapse: collapse;\n",
       "  }\n",
       "  th, td {\n",
       "    padding: 5px;\n",
       "  }\n",
       "  th {\n",
       "    text-align: left;\n",
       "  }\n",
       "</style><div class='table-result-container'><table class='table-result'><thead style='background-color: white'><tr><th>day_type</th><th>hour</th><th>song_count</th></tr></thead><tbody><tr><td>Weekday</td><td>0</td><td>1</td></tr><tr><td>Weekday</td><td>4</td><td>5</td></tr><tr><td>Weekday</td><td>5</td><td>9</td></tr><tr><td>Weekday</td><td>6</td><td>10</td></tr><tr><td>Weekday</td><td>7</td><td>9</td></tr><tr><td>Weekday</td><td>14</td><td>2</td></tr><tr><td>Weekday</td><td>15</td><td>3</td></tr><tr><td>Weekday</td><td>16</td><td>4</td></tr><tr><td>Weekend</td><td>8</td><td>1</td></tr><tr><td>Weekend</td><td>9</td><td>6</td></tr></tbody></table></div>"
      ]
     },
     "metadata": {
      "application/vnd.databricks.v1+output": {
       "addedWidgets": {},
       "aggData": [],
       "aggError": "",
       "aggOverflow": false,
       "aggSchema": [],
       "aggSeriesLimitReached": false,
       "aggType": "",
       "arguments": {},
       "columnCustomDisplayInfos": {},
       "data": [
        [
         "Weekday",
         0,
         1
        ],
        [
         "Weekday",
         4,
         5
        ],
        [
         "Weekday",
         5,
         9
        ],
        [
         "Weekday",
         6,
         10
        ],
        [
         "Weekday",
         7,
         9
        ],
        [
         "Weekday",
         14,
         2
        ],
        [
         "Weekday",
         15,
         3
        ],
        [
         "Weekday",
         16,
         4
        ],
        [
         "Weekend",
         8,
         1
        ],
        [
         "Weekend",
         9,
         6
        ]
       ],
       "datasetInfos": [],
       "dbfsResultPath": null,
       "isJsonSchema": true,
       "metadata": {},
       "overflow": false,
       "plotOptions": {
        "customPlotOptions": {},
        "displayType": "table",
        "pivotAggregation": null,
        "pivotColumns": null,
        "xColumns": null,
        "yColumns": null
       },
       "removedWidgets": [],
       "schema": [
        {
         "metadata": "{}",
         "name": "day_type",
         "type": "\"string\""
        },
        {
         "metadata": "{}",
         "name": "hour",
         "type": "\"integer\""
        },
        {
         "metadata": "{}",
         "name": "song_count",
         "type": "\"long\""
        }
       ],
       "type": "table"
      }
     },
     "output_type": "display_data"
    }
   ],
   "source": [
    "from pyspark.sql.functions import hour, date_format, count, when\n",
    "\n",
    "# Add hour and day_of_week\n",
    "gold_weekday_weekend = silver_df \\\n",
    "    .withColumn(\"hour\", hour(\"played_at\")) \\\n",
    "    .withColumn(\"day_of_week\", date_format(\"played_at\", \"EEEE\")) \\\n",
    "    .withColumn(\n",
    "        \"day_type\", \n",
    "        when(col(\"day_of_week\").isin(\"Saturday\", \"Sunday\"), \"Weekend\").otherwise(\"Weekday\")\n",
    "    ) \\\n",
    "    .groupBy(\"day_type\", \"hour\") \\\n",
    "    .agg(count(\"*\").alias(\"song_count\")) \\\n",
    "    .orderBy(\"day_type\", \"hour\")\n",
    "\n",
    "display(gold_weekday_weekend)\n",
    "gold_weekday_weekend.write.mode(\"overwrite\").saveAsTable(\"gold_weekday_weekend\")\n"
   ]
  },
  {
   "cell_type": "markdown",
   "metadata": {
    "application/vnd.databricks.v1+cell": {
     "cellMetadata": {
      "byteLimit": 2048000,
      "rowLimit": 10000
     },
     "inputWidgets": {},
     "nuid": "7bf15c40-739d-4243-953a-514c477aebdd",
     "showTitle": false,
     "tableResultSettingsMap": {},
     "title": ""
    }
   },
   "source": [
    "**Top Tracks**"
   ]
  },
  {
   "cell_type": "code",
   "execution_count": 0,
   "metadata": {
    "application/vnd.databricks.v1+cell": {
     "cellMetadata": {
      "byteLimit": 2048000,
      "rowLimit": 10000
     },
     "inputWidgets": {},
     "nuid": "6cf87f85-4b86-4ae7-83ba-f59e46e1d503",
     "showTitle": false,
     "tableResultSettingsMap": {},
     "title": ""
    }
   },
   "outputs": [
    {
     "output_type": "display_data",
     "data": {
      "text/html": [
       "<style scoped>\n",
       "  .table-result-container {\n",
       "    max-height: 300px;\n",
       "    overflow: auto;\n",
       "  }\n",
       "  table, th, td {\n",
       "    border: 1px solid black;\n",
       "    border-collapse: collapse;\n",
       "  }\n",
       "  th, td {\n",
       "    padding: 5px;\n",
       "  }\n",
       "  th {\n",
       "    text-align: left;\n",
       "  }\n",
       "</style><div class='table-result-container'><table class='table-result'><thead style='background-color: white'><tr><th>track</th><th>song_count</th></tr></thead><tbody><tr><td>CANCELLED!</td><td>12</td></tr><tr><td>Actually Romantic</td><td>4</td></tr><tr><td>Red (Taylor's Version)</td><td>3</td></tr><tr><td>Wood</td><td>3</td></tr><tr><td>Wi$h Li$t</td><td>3</td></tr><tr><td>The Fate of Ophelia</td><td>2</td></tr><tr><td>Give Your Heart a Break</td><td>2</td></tr><tr><td>Summertime Sadness</td><td>2</td></tr><tr><td>Ruin The Friendship</td><td>2</td></tr><tr><td>Father Figure</td><td>2</td></tr><tr><td>Beauty And A Beat</td><td>2</td></tr><tr><td>Elizabeth Taylor</td><td>2</td></tr><tr><td>I Like Me Better</td><td>1</td></tr><tr><td>Opalite</td><td>1</td></tr><tr><td>Heart Attack</td><td>1</td></tr><tr><td>Your Love Is My Drug</td><td>1</td></tr><tr><td>Young And Beautiful</td><td>1</td></tr><tr><td>DAISIES</td><td>1</td></tr><tr><td>On & On</td><td>1</td></tr><tr><td>The Life of a Showgirl (feat. Sabrina Carpenter)</td><td>1</td></tr><tr><td>The Prophecy</td><td>1</td></tr><tr><td>Eldest Daughter</td><td>1</td></tr><tr><td>Cruel Summer</td><td>1</td></tr></tbody></table></div>"
      ]
     },
     "metadata": {
      "application/vnd.databricks.v1+output": {
       "addedWidgets": {},
       "aggData": [],
       "aggError": "",
       "aggOverflow": false,
       "aggSchema": [],
       "aggSeriesLimitReached": false,
       "aggType": "",
       "arguments": {},
       "columnCustomDisplayInfos": {},
       "data": [
        [
         "CANCELLED!",
         12
        ],
        [
         "Actually Romantic",
         4
        ],
        [
         "Red (Taylor's Version)",
         3
        ],
        [
         "Wood",
         3
        ],
        [
         "Wi$h Li$t",
         3
        ],
        [
         "The Fate of Ophelia",
         2
        ],
        [
         "Give Your Heart a Break",
         2
        ],
        [
         "Summertime Sadness",
         2
        ],
        [
         "Ruin The Friendship",
         2
        ],
        [
         "Father Figure",
         2
        ],
        [
         "Beauty And A Beat",
         2
        ],
        [
         "Elizabeth Taylor",
         2
        ],
        [
         "I Like Me Better",
         1
        ],
        [
         "Opalite",
         1
        ],
        [
         "Heart Attack",
         1
        ],
        [
         "Your Love Is My Drug",
         1
        ],
        [
         "Young And Beautiful",
         1
        ],
        [
         "DAISIES",
         1
        ],
        [
         "On & On",
         1
        ],
        [
         "The Life of a Showgirl (feat. Sabrina Carpenter)",
         1
        ],
        [
         "The Prophecy",
         1
        ],
        [
         "Eldest Daughter",
         1
        ],
        [
         "Cruel Summer",
         1
        ]
       ],
       "datasetInfos": [],
       "dbfsResultPath": null,
       "isJsonSchema": true,
       "metadata": {},
       "overflow": false,
       "plotOptions": {
        "customPlotOptions": {},
        "displayType": "table",
        "pivotAggregation": null,
        "pivotColumns": null,
        "xColumns": null,
        "yColumns": null
       },
       "removedWidgets": [],
       "schema": [
        {
         "metadata": "{}",
         "name": "track",
         "type": "\"string\""
        },
        {
         "metadata": "{}",
         "name": "song_count",
         "type": "\"long\""
        }
       ],
       "type": "table"
      }
     },
     "output_type": "display_data"
    }
   ],
   "source": [
    "from pyspark.sql.functions import count, col\n",
    "\n",
    "gold_top_tracks = silver_df.groupBy(\"track\") \\\n",
    "    .agg(count(\"*\").alias(\"song_count\")) \\\n",
    "    .orderBy(col(\"song_count\").desc())\n",
    "\n",
    "display(gold_top_tracks)\n",
    "\n",
    "gold_top_tracks.write.mode(\"overwrite\").saveAsTable(\"gold_top_tracks\")"
   ]
  },
  {
   "cell_type": "markdown",
   "metadata": {
    "application/vnd.databricks.v1+cell": {
     "cellMetadata": {},
     "inputWidgets": {},
     "nuid": "7b3788ae-b75b-4d55-8ddf-87aaf9eb97c4",
     "showTitle": false,
     "tableResultSettingsMap": {},
     "title": ""
    }
   },
   "source": [
    "**Album Popularity**"
   ]
  },
  {
   "cell_type": "code",
   "execution_count": 0,
   "metadata": {
    "application/vnd.databricks.v1+cell": {
     "cellMetadata": {
      "byteLimit": 2048000,
      "rowLimit": 10000
     },
     "inputWidgets": {},
     "nuid": "8d98be25-cebc-4bd2-a274-7a3dd21d0789",
     "showTitle": false,
     "tableResultSettingsMap": {},
     "title": ""
    }
   },
   "outputs": [
    {
     "output_type": "display_data",
     "data": {
      "text/html": [
       "<style scoped>\n",
       "  .table-result-container {\n",
       "    max-height: 300px;\n",
       "    overflow: auto;\n",
       "  }\n",
       "  table, th, td {\n",
       "    border: 1px solid black;\n",
       "    border-collapse: collapse;\n",
       "  }\n",
       "  th, td {\n",
       "    padding: 5px;\n",
       "  }\n",
       "  th {\n",
       "    text-align: left;\n",
       "  }\n",
       "</style><div class='table-result-container'><table class='table-result'><thead style='background-color: white'><tr><th>album</th><th>song_count</th></tr></thead><tbody><tr><td>The Life of a Showgirl</td><td>33</td></tr><tr><td>Red (Taylor's Version)</td><td>3</td></tr><tr><td>Unbroken</td><td>2</td></tr><tr><td>Born To Die - The Paradise Edition</td><td>2</td></tr><tr><td>Believe</td><td>2</td></tr><tr><td>I met you when I was 18. (the playlist)</td><td>1</td></tr><tr><td>Demi</td><td>1</td></tr><tr><td>Animal (Expanded Edition)</td><td>1</td></tr><tr><td>Young And Beautiful</td><td>1</td></tr><tr><td>SWAG</td><td>1</td></tr><tr><td>On & On</td><td>1</td></tr><tr><td>THE TORTURED POETS DEPARTMENT: THE ANTHOLOGY</td><td>1</td></tr><tr><td>Lover</td><td>1</td></tr></tbody></table></div>"
      ]
     },
     "metadata": {
      "application/vnd.databricks.v1+output": {
       "addedWidgets": {},
       "aggData": [],
       "aggError": "",
       "aggOverflow": false,
       "aggSchema": [],
       "aggSeriesLimitReached": false,
       "aggType": "",
       "arguments": {},
       "columnCustomDisplayInfos": {},
       "data": [
        [
         "The Life of a Showgirl",
         33
        ],
        [
         "Red (Taylor's Version)",
         3
        ],
        [
         "Unbroken",
         2
        ],
        [
         "Born To Die - The Paradise Edition",
         2
        ],
        [
         "Believe",
         2
        ],
        [
         "I met you when I was 18. (the playlist)",
         1
        ],
        [
         "Demi",
         1
        ],
        [
         "Animal (Expanded Edition)",
         1
        ],
        [
         "Young And Beautiful",
         1
        ],
        [
         "SWAG",
         1
        ],
        [
         "On & On",
         1
        ],
        [
         "THE TORTURED POETS DEPARTMENT: THE ANTHOLOGY",
         1
        ],
        [
         "Lover",
         1
        ]
       ],
       "datasetInfos": [],
       "dbfsResultPath": null,
       "isJsonSchema": true,
       "metadata": {},
       "overflow": false,
       "plotOptions": {
        "customPlotOptions": {},
        "displayType": "table",
        "pivotAggregation": null,
        "pivotColumns": null,
        "xColumns": null,
        "yColumns": null
       },
       "removedWidgets": [],
       "schema": [
        {
         "metadata": "{}",
         "name": "album",
         "type": "\"string\""
        },
        {
         "metadata": "{}",
         "name": "song_count",
         "type": "\"long\""
        }
       ],
       "type": "table"
      }
     },
     "output_type": "display_data"
    }
   ],
   "source": [
    "from pyspark.sql.functions import count\n",
    "\n",
    "gold_album_popularity = silver_df \\\n",
    "    .groupBy(\"album\") \\\n",
    "    .agg(count(\"*\").alias(\"song_count\")) \\\n",
    "    .orderBy(\"song_count\", ascending=False)\n",
    "\n",
    "display(gold_album_popularity)\n",
    "gold_album_popularity.write.mode(\"overwrite\").saveAsTable(\"gold_album_popularity\")\n"
   ]
  }
 ],
 "metadata": {
  "application/vnd.databricks.v1+notebook": {
   "computePreferences": null,
   "dashboards": [],
   "environmentMetadata": {
    "base_environment": "",
    "environment_version": "3"
   },
   "inputWidgetPreferences": null,
   "language": "python",
   "notebookMetadata": {
    "pythonIndentUnit": 4
   },
   "notebookName": "Spotify analysis",
   "widgets": {}
  },
  "language_info": {
   "name": "python"
  }
 },
 "nbformat": 4,
 "nbformat_minor": 0
}